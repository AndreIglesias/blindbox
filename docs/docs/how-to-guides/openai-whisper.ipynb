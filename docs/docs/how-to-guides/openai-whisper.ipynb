{
 "cells": [
  {
   "attachments": {},
   "cell_type": "markdown",
   "metadata": {
    "id": "7-tQfVM_pJcr"
   },
   "source": [
    "# OpenAI Whisper using FastAPI\n",
    "______________________________\n",
    "\n",
    "## Introduction\n",
    "______________________________\n",
    "\n",
    "In this tutorial, we're going to walk through how we created and deployed an API for the [OpenAI Whisper LLM model](https://openai.com/research/whisper) with BlindBox. \n",
    "\n",
    "The Whisper model performs transcription of audio files. By deploying the Whisper model with BlindBox, users' audio files and transcriptions remain confidential at all times and are not exposed to the service provider! \n",
    "\n",
    "Preparing and deploying an application with BlindBox can be broken down into four stages:\n",
    "\n",
    "[IMAGE HERE]\n",
    "\n",
    "In this tutorial, we are primarily going to focus on the first step: Preparing the application image.\n",
    "\n",
    "We will split this into two sub-steps:\n",
    "\n",
    "1. How we **created a BlindBox-compatible API** for the model.\n",
    "2. How we **created the Docker image** for our API.\n",
    "\n",
    "Once we have covered this step, we will provide a quick demonstration of how to deploy and query the application image.\n",
    "\n",
    "> You can see how we deploy the image with BlindBox in the [Quick tour](https://blindbox.mithrilsecurity.io/en/latest/docs/getting-started/quick-tour/).\n",
    "\n",
    "Let's dive in!"
   ]
  },
  {
   "attachments": {},
   "cell_type": "markdown",
   "metadata": {},
   "source": [
    "## Pre-requisites\n",
    "____________________\n",
    "\n",
    "To follow along with this tutorial, you will need to:\n",
    "\n",
    "+ Have Docker installed in your environment. Here's the [Docker installation guide](https://docs.docker.com/desktop/install/linux-install/).\n",
    "+ Have [blindbox](https://pypi.org/project/blindbox/), [terraform](https://www.terraform.io/) and the [Azure CLI tool](https://learn.microsoft.com/en-us/cli/azure/install-azure-cli) installed."
   ]
  },
  {
   "cell_type": "code",
   "execution_count": null,
   "metadata": {},
   "outputs": [],
   "source": [
    "# install blindbox & blindbox CLI\n",
    "!pip install blindbox[cli]\n",
    "\n",
    "# Download terraform\n",
    "!wget -O- https://apt.releases.hashicorp.com/gpg | sudo gpg --dearmor -o /usr/share/keyrings/hashicorp-archive-keyring.gpg\n",
    "\n",
    "# Add terraform to trusted apt packages\n",
    "!echo \"deb [signed-by=/usr/share/keyrings/hashicorp-archive-keyring.gpg] https://apt.releases.hashicorp.com $(lsb_release -cs) main\" | sudo tee /etc/apt/sources.list.d/hashicorp.list\n",
    "\n",
    "# Install terraform\n",
    "!sudo apt update && sudo apt install terraform\n",
    "\n",
    "# Install azure-cli\n",
    "!curl -sL https://aka.ms/InstallAzureCLIDeb | sudo bash"
   ]
  },
  {
   "attachments": {},
   "cell_type": "markdown",
   "metadata": {},
   "source": [
    "## Packaging Whisper with FastAPI\n",
    "_______________________\n",
    "\n",
    "Our first task in deploying the **Whisper OpenAI** model with **BlindBox** was to create an API so that our end users will be able to query the model. We did this using the **FastAPI library** which allows us to quickly assign functions to API endpoints.\n",
    " \n",
    "The full code we use to do this is available in the `server.py` file in the `ai_server_example` folder on BlindBox's official GitHub repository."
   ]
  },
  {
   "cell_type": "code",
   "execution_count": null,
   "metadata": {},
   "outputs": [],
   "source": [
    "!git clone https://github.com/mithril-security/blindbox\n",
    "!cd ai_server_example"
   ]
  },
  {
   "attachments": {},
   "cell_type": "markdown",
   "metadata": {},
   "source": [
    "There are three key sections in this code:\n",
    "\n",
    "### Initial set-up\n",
    "\n",
    "Firstly, we load the OpenAI tiny English Whisper model from Hugging Face, and initialize our API."
   ]
  },
  {
   "attachments": {},
   "cell_type": "markdown",
   "metadata": {},
   "source": [
    "```python\n",
    "\n",
    " # Some settings\n",
    "STT = \"openai/whisper-tiny.en\" # Model name (HuggingFace)\n",
    "MODEL_STORE_ADDR = \"172.17.0.1\" # Address of the model store\n",
    "\n",
    " # Initialize our FastAPI API object\n",
    "app = FastAPI()\n",
    "\n",
    " # Load model and tokenizer\n",
    "whisper_processor = load_from_store(STT, WhisperProcessor, MODEL_STORE_ADDR)\n",
    "whisper_model = load_from_store(STT, WhisperForConditionalGeneration, MODEL_STORE_ADDR)\n",
    "whisper_model.eval()\n",
    "```"
   ]
  },
  {
   "attachments": {},
   "cell_type": "markdown",
   "metadata": {},
   "source": [
    "### Creating an endpoint\n",
    "\n",
    "Secondly, we create a `/whisper/predict` POST endpoint on our FastAPI application object. This endpoint will convert the audio file to a tensor and then query the model with our input data."
   ]
  },
  {
   "attachments": {},
   "cell_type": "markdown",
   "metadata": {},
   "source": [
    "```python\n",
    " # This is a POST endpoint located at /whisper/predict\n",
    "@app.post(\"/whisper/predict\")\n",
    "@async_speech_to_text_endpoint(sample_rate=16000) # We use the async_speech_to_text_endpoint to handle conversion from an audio file to a tensor\n",
    "\n",
    "async def predict(x: np.ndarray) -> str:\n",
    "    \n",
    "    input_features = whisper_processor(\n",
    "        x, sampling_rate=16000, return_tensors=\"pt\"\n",
    "    ).input_features\n",
    "    \n",
    "    # We query the model through the runner\n",
    "    predicted_ids = await whisper_runner.submit(input_features)\n",
    "    \n",
    "    # We decode our results\n",
    "    transcription = whisper_processor.batch_decode(\n",
    "        predicted_ids, skip_special_tokens=True\n",
    "    )\n",
    "\n",
    "    return transcription[0]\n",
    "```"
   ]
  },
  {
   "attachments": {},
   "cell_type": "markdown",
   "metadata": {},
   "source": [
    "We created a runner for querying the model which uses adaptive batching and a separate thread to avoid blocking the event loop since this process is quite intensive.\n",
    "\n",
    "The runner is launched when the server starts up and executes the `run_whisper` function when a batch is ready to be processed."
   ]
  },
  {
   "attachments": {},
   "cell_type": "markdown",
   "metadata": {},
   "source": [
    "```python\n",
    " # A function that wraps prediction code and that will be executed by the runner\n",
    "def run_whisper(x: torch.Tensor) -> torch.Tensor:\n",
    "    return whisper_model.generate(x, max_length=128)\n",
    "\n",
    "\n",
    " # Define a runner (i.e. the given function will be run on a separate thread with adaptive batching)\n",
    "whisper_runner = BatchRunner(\n",
    "    run_whisper,\n",
    "    max_batch_size=256,\n",
    "    max_latency_ms=200,\n",
    "    collator=TorchCollator(),\n",
    ")\n",
    "\n",
    "app.on_event(\"startup\")(whisper_runner.run) # Schedule the runner to run when the server is up\n",
    "```"
   ]
  },
  {
   "attachments": {},
   "cell_type": "markdown",
   "metadata": {},
   "source": [
    "### Launching our server\n",
    "\n",
    "Finally, we deploys our API on a python ASGI `uvicorn` server (an asynchronous web server) on `port 80`. It is essential to use **port 80** as BlindBox will need to be able to communicate with our application on this port!\n",
    "\n",
    "```python\n",
    "if __name__ == \"__main__\":\n",
    "    uvicorn.run(app, host=\"0.0.0.0\", port=80)\n",
    "\n",
    "```"
   ]
  },
  {
   "attachments": {},
   "cell_type": "markdown",
   "metadata": {},
   "source": [
    "To sum up, we packaged the Whisper model as an API by doing the following:\n",
    "\n",
    "+ Creating an API app object that \"configures\" the `uvicorn` server by providing handlers for specific endpoints\n",
    "\n",
    "+ Creating a `whisper/predict` endpoint which in turn queries the Whisper model.\n",
    "\n",
    "+ Deploy our API on our server on `port 80`."
   ]
  },
  {
   "attachments": {},
   "cell_type": "markdown",
   "metadata": {},
   "source": [
    "## Packaging our application in a Docker image\n",
    "________________________________\n",
    "\n",
    "Once we had created out Whisper API, all that was left to do was create a **Docker image** for our application that could then be deployed in BlindBox. Let's take a look at the Dockerfile we used to do this:"
   ]
  },
  {
   "attachments": {},
   "cell_type": "markdown",
   "metadata": {},
   "source": [
    "```docker\n",
    "FROM python:3.10.10-bullseye as base\n",
    "\n",
    " # install necessary dependencies\n",
    "RUN pip install \\\n",
    "    torch==1.13.1 \\\n",
    "    transformers==4.26.1 \\\n",
    "    fastapi==0.95.0 \\\n",
    "    python-multipart==0.0.6 \\\n",
    "    uvicorn==0.21.1 \\\n",
    "    soundfile==0.12.1 \\\n",
    "    messages \\\n",
    "    librosa==0.10.0 \\\n",
    "    pydantic==1.10.7 \\\n",
    "    requests==2.28.2 \\\n",
    "    --extra-index-url https://download.pytorch.org/whl/cpu\n",
    "\n",
    "COPY batch_runner.py /\n",
    "COPY collators.py /\n",
    "COPY messages.py /\n",
    "COPY model_store.py /\n",
    "COPY serializers.py /\n",
    "COPY server.py /\n",
    "\n",
    " # signal our app runs on port 80\n",
    "EXPOSE 80\n",
    "\n",
    " # launch our server\n",
    "CMD [\"python server.py\"]\n",
    "```"
   ]
  },
  {
   "attachments": {},
   "cell_type": "markdown",
   "metadata": {},
   "source": [
    "> Same as for the application code, this file can be viewed in the `ai_server_example` folder on the official BlindBox GitHub repository.\n",
    "\n",
    "There are no complex requirements for the Docker image, but it is recommended to `EXPOSE` port 80 to signal that the application will be running on port 80 within our BlindBox."
   ]
  },
  {
   "attachments": {},
   "cell_type": "markdown",
   "metadata": {},
   "source": [
    "## Deploying our application\n",
    "\n",
    "We explain how to get everything set-up in order to deploy applications with BlindBox in more detail our [Quick Tour](../../docs/docs/getting-started/quick-tour.ipynb).\n",
    "\n",
    "Here, we will take a brief look at the code we used to deploy our BlindBox on a system which already had all the pre-requisites set-up."
   ]
  },
  {
   "cell_type": "code",
   "execution_count": null,
   "metadata": {},
   "outputs": [],
   "source": [
    "# download and navigate to whisper example folder\n",
    "!git clone https://github.com/mithril-security/blindbox\n",
    "!cd examples/whisper"
   ]
  },
  {
   "cell_type": "code",
   "execution_count": null,
   "metadata": {},
   "outputs": [],
   "source": [
    "# initialize the blindbox\n",
    "!blindbox --platform azure-sev init\n",
    "\n",
    "# build whisper application assigning it the tag \"myimage\"\n",
    "!docker build -t whisper .\n",
    "\n",
    "# deploy our image inside Confidential VM using BlindBox\n",
    "!blindbox deploy whisper-blindbox:v1"
   ]
  },
  {
   "attachments": {},
   "cell_type": "markdown",
   "metadata": {},
   "source": [
    "> Note that when we launch `blindbox deploy`, we will see details about the Azure resources that will be created by the process and must input 'yes' in order to complete deployment."
   ]
  },
  {
   "attachments": {
    "deploy-agree.png": {
     "image/png": "[encoded data removed]"
    }
   },
   "cell_type": "markdown",
   "metadata": {},
   "source": [
    "![deploy-agree.png](attachment:deploy-agree.png)"
   ]
  },
  {
   "attachments": {},
   "cell_type": "markdown",
   "metadata": {},
   "source": [
    "When this process is complete, you will see the following success message."
   ]
  },
  {
   "attachments": {},
   "cell_type": "markdown",
   "metadata": {},
   "source": [
    "## Querying our application\n",
    "\n",
    "We were then able to query our Whisper application within our Confidential BlindBox. The code we send to the application is protected from outside access at every step of its journey!\n",
    "\n",
    "To query the model, we used the same [test audio file](https://www2.cs.uic.edu/~i101/SoundFiles/taunt.wav) provided by University of Illinois at Chicago as detailed in the Quick Tour!"
   ]
  },
  {
   "cell_type": "code",
   "execution_count": null,
   "metadata": {},
   "outputs": [],
   "source": [
    "# Download our example audio file and save it as `test.wav` in a `.tmp` folder\n",
    "\n",
    "!mkdir -p .tmp\n",
    "!wget https://www2.cs.uic.edu/~i101/SoundFiles/taunt.wav -O .tmp/test.wav"
   ]
  },
  {
   "cell_type": "code",
   "execution_count": null,
   "metadata": {},
   "outputs": [],
   "source": [
    "# import requests module\n",
    "from blindbox  import requests\n",
    "\n",
    "CONFIDENTIAL_VM_IP_ADDRESS = \"127.0.0.1:80\" # replace with your VM IP address and port\n",
    "\n",
    "# we query our application, sending it our audio file\n",
    "res = requests.post(url=f\"http://{CONFIDENTIAL_VM_IP_ADDRESS}/whisper/predict\", files={\"audio\": open(\".tmp/test.wav\", \"rb\")})\n",
    "\n",
    "# display result\n",
    "print(res)"
   ]
  },
  {
   "attachments": {},
   "cell_type": "markdown",
   "metadata": {},
   "source": [
    "We get back a string containing the transcription of our audio file!"
   ]
  },
  {
   "attachments": {},
   "cell_type": "markdown",
   "metadata": {},
   "source": [
    "## Conclusions\n",
    "_______________________\n",
    "\n",
    "The Whisper app is now ready to be built and deployed on BlindBox! You can see exactly how we do this in our [Quick Tour](https://blindbox.mithrilsecurity.io/en/latest/docs/getting-started/quick-tour/).\n",
    " \n",
    "In this tutorial, we've seen how we can:\n",
    "+ Create a **BlindBox-compatible application**\n",
    "+ Create an **application image**, ready to be built and deployed on BlindBox!"
   ]
  }
 ],
 "metadata": {
  "colab": {
   "provenance": []
  },
  "kernelspec": {
   "display_name": "blindbox-preview-7Yaoi9am-py3.8",
   "language": "python",
   "name": "python3"
  },
  "language_info": {
   "codemirror_mode": {
    "name": "ipython",
    "version": 3
   },
   "file_extension": ".py",
   "mimetype": "text/x-python",
   "name": "python",
   "nbconvert_exporter": "python",
   "pygments_lexer": "ipython3",
   "version": "3.10.6"
  },
  "orig_nbformat": 4
 },
 "nbformat": 4,
 "nbformat_minor": 0
}
